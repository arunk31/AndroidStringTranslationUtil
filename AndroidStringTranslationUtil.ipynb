{
 "cells": [
  {
   "cell_type": "markdown",
   "metadata": {},
   "source": [
    "# Excel Generator"
   ]
  },
  {
   "cell_type": "markdown",
   "metadata": {},
   "source": [
    "## Generating an excel file from a string resource file"
   ]
  },
  {
   "cell_type": "markdown",
   "metadata": {},
   "source": [
    "### Used for sharing with translation service provider"
   ]
  },
  {
   "cell_type": "markdown",
   "metadata": {},
   "source": [
    "#### Install the below dependency\n",
    "\n",
    "Using Python 3\n",
    "\n",
    "pip install XlsxWriter\n",
    "pip install lxml"
   ]
  },
  {
   "cell_type": "code",
   "execution_count": 18,
   "metadata": {},
   "outputs": [
    {
     "name": "stdout",
     "output_type": "stream",
     "text": [
      "d:/1.xml\n",
      "Len :  10\n"
     ]
    }
   ],
   "source": [
    "import xlsxwriter\n",
    "\n",
    "# Create a workbook and add a worksheet.\n",
    "workbook = xlsxwriter.Workbook('Translations.xlsx')\n",
    "worksheet = workbook.add_worksheet()\n",
    "\n",
    "#Get a file and parse it\n",
    "from xml.dom import minidom\n",
    "xmldoc = minidom.parse(input()) # python <3 use raw_input() instead of input()\n",
    "itemlist = xmldoc.getElementsByTagName('string') \n",
    "#print(\"Len : \", len(itemlist))\n",
    "\n",
    "items = []\n",
    "\n",
    "for s in itemlist :\n",
    "    items.append([s.attributes['name'].value, s.firstChild.nodeValue])\n",
    "\n",
    "tupleItems = tuple(items)\n",
    "\n",
    "# Start from the first cell. Rows and columns are zero indexed.\n",
    "row = 0\n",
    "col = 0\n",
    "\n",
    "# Iterate over the data and write it out row by row.\n",
    "for item, value in (tupleItems):\n",
    "    worksheet.write(row, col,     item)\n",
    "    worksheet.write(row, col + 1, value)\n",
    "    row += 1\n",
    "\n",
    "workbook.close()"
   ]
  },
  {
   "cell_type": "code",
   "execution_count": null,
   "metadata": {
    "collapsed": true
   },
   "outputs": [],
   "source": []
  }
 ],
 "metadata": {
  "kernelspec": {
   "display_name": "Python 3",
   "language": "python",
   "name": "python3"
  },
  "language_info": {
   "codemirror_mode": {
    "name": "ipython",
    "version": 3
   },
   "file_extension": ".py",
   "mimetype": "text/x-python",
   "name": "python",
   "nbconvert_exporter": "python",
   "pygments_lexer": "ipython3",
   "version": "3.6.3"
  }
 },
 "nbformat": 4,
 "nbformat_minor": 2
}
