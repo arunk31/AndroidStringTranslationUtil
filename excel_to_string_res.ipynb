{
 "cells": [
  {
   "cell_type": "markdown",
   "metadata": {},
   "source": [
    "# String Res Generator"
   ]
  },
  {
   "cell_type": "markdown",
   "metadata": {},
   "source": [
    "## Generating a string resource file for all available languages in the given excel file"
   ]
  },
  {
   "cell_type": "markdown",
   "metadata": {},
   "source": [
    "### Used for parsing the translation file provide by a vendor"
   ]
  },
  {
   "cell_type": "markdown",
   "metadata": {},
   "source": [
    "#### Install the below dependency\n",
    "\n",
    "Using Python 3\n",
    "\n",
    "pip install xlrd"
   ]
  },
  {
   "cell_type": "code",
   "execution_count": 25,
   "metadata": {},
   "outputs": [
    {
     "name": "stdout",
     "output_type": "stream",
     "text": [
      "d:/1.xlsx\n",
      "Sheet:Sheet1, Rows:11 Cols:2\n"
     ]
    }
   ],
   "source": [
    "import xlrd\n",
    "\n",
    "# Open and read a workbook\n",
    "book = xlrd.open_workbook(input()) # python <3 use raw_input() instead of input()\n",
    "# Select the first worksheet\n",
    "sh = book.sheet_by_index(0)\n",
    "\n",
    "print(\"Sheet:{0}, Rows:{1} Cols:{2}\".format(sh.name, sh.nrows, sh.ncols))\n",
    "\n",
    "for cx in range(sh.ncols):\n",
    "    if cx == 0 :\n",
    "        #Contains only the keys\n",
    "        continue;\n",
    "    \n",
    "    #Create the DOM structure and populate the data\n",
    "    from xml.dom.minidom import getDOMImplementation\n",
    "    impl = getDOMImplementation() \n",
    "    doc = impl.createDocument(None, \"resources\", None)\n",
    "    root = doc.documentElement\n",
    "    doc.appendChild(root)\n",
    "    fileName = \"d:/string_{0}.xml\".format(cx)\n",
    "    for rx in range(sh.nrows):\n",
    "        if rx == 0:\n",
    "            #Contains the column title\n",
    "            fileName = \"d:/string_{0}.xml\".format(sh.row(rx)[cx].value)\n",
    "            continue;\n",
    "        # Create Element\n",
    "        tempChild = doc.createElement(\"string\")\n",
    "        root.appendChild(tempChild)\n",
    "        # Write Text\n",
    "        nodeText = doc.createTextNode(sh.row(rx)[cx].value)\n",
    "        tempChild.setAttribute( \"name\", sh.row(rx)[0].value)\n",
    "        tempChild.appendChild(nodeText)\n",
    "    #Write the document to a file\n",
    "    doc.writexml( open(fileName, 'w'),\n",
    "               indent=\"  \",\n",
    "               addindent=\"  \",\n",
    "               newl='\\n')\n",
    "    #Close the internal link to the file\n",
    "    doc.unlink()"
   ]
  }
 ],
 "metadata": {
  "kernelspec": {
   "display_name": "Python 3",
   "language": "python",
   "name": "python3"
  },
  "language_info": {
   "codemirror_mode": {
    "name": "ipython",
    "version": 3
   },
   "file_extension": ".py",
   "mimetype": "text/x-python",
   "name": "python",
   "nbconvert_exporter": "python",
   "pygments_lexer": "ipython3",
   "version": "3.6.3"
  }
 },
 "nbformat": 4,
 "nbformat_minor": 2
}
